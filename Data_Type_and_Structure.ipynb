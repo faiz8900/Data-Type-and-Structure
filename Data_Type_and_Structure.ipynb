{
  "nbformat": 4,
  "nbformat_minor": 0,
  "metadata": {
    "colab": {
      "provenance": []
    },
    "kernelspec": {
      "name": "python3",
      "display_name": "Python 3"
    },
    "language_info": {
      "name": "python"
    }
  },
  "cells": [
    {
      "cell_type": "markdown",
      "source": [
        "**Data Types and Structures**"
      ],
      "metadata": {
        "id": "jpWiXrtGt_YW"
      }
    },
    {
      "cell_type": "markdown",
      "source": [
        "1. What are data structures, and why are they important?"
      ],
      "metadata": {
        "id": "NPGoE46elZYg"
      }
    },
    {
      "cell_type": "markdown",
      "source": [
        " - Data structures are fundamental to computer science, defining how data is organized, stored, and processed in a computer system. They provide a way to efficiently access, manage, and manipulate data, which is crucial for building efficient and effective software applications. Data structures are essential for performance, readability, and scalability of code, as well as how well it solves the problem at hand."
      ],
      "metadata": {
        "id": "HzfY18_UlZWR"
      }
    },
    {
      "cell_type": "markdown",
      "source": [
        "2.  Explain the difference between mutable and immutable data types with examples"
      ],
      "metadata": {
        "id": "wkThsZA3lZUO"
      }
    },
    {
      "cell_type": "markdown",
      "source": [
        "- In programming, mutable data types allow their values to be modified after creation, while immutable data types cannot be changed once created. If you try to change an immutable object, you'll typically get a new object with the modified value, rather than modifying the original."
      ],
      "metadata": {
        "id": "2vBZplwZmOT4"
      }
    },
    {
      "cell_type": "markdown",
      "source": [
        "3. What are the main differences between lists and tuples in Python?"
      ],
      "metadata": {
        "id": "BSi-mECpmdzG"
      }
    },
    {
      "cell_type": "markdown",
      "source": [
        "- Lists and tuples are both ordered sequences in Python, but they have key differences:\n",
        "\n",
        "Mutability: Lists are mutable, meaning their elements can be changed after creation (add, remove, modify). Tuples are immutable; once created, their elements cannot be changed.\n",
        "\n",
        "Syntax: Lists are defined using square brackets [ ], while tuples use parentheses ().\n",
        "\n",
        "Use cases: Lists are suitable for collections of items that may need to be modified, while tuples are used for fixed data or when data integrity is crucial.\n",
        "\n",
        "Performance: Tuples are generally faster and more memory-efficient than lists due to their immutability.\n",
        "\n",
        "Methods: Lists have more built-in methods for manipulation (e.g., append, insert, remove), while tuples have fewer methods due to their immutability.\n"
      ],
      "metadata": {
        "id": "PLRsd8VKml8w"
      }
    },
    {
      "cell_type": "markdown",
      "source": [
        "4. Describe how dictionaries store data."
      ],
      "metadata": {
        "id": "eL3sPeTCnRLG"
      }
    },
    {
      "cell_type": "markdown",
      "source": [
        "- Dictionaries are unordered collections of data and are represented with curly brackets { } . Like lists, dictionaries are mutable(changeable) and indexed. With dictionaries, data is stored in a key:value format. In this example, myCar is the variable that we have assigned our dictionary to."
      ],
      "metadata": {
        "id": "VvD5EuEcnX50"
      }
    },
    {
      "cell_type": "markdown",
      "source": [
        "5. Why might you use a set instead of a list in Python?"
      ],
      "metadata": {
        "id": "xIw_VAsIpSS8"
      }
    },
    {
      "cell_type": "markdown",
      "source": [
        "- Sets and lists serve different purposes in Python, making one more suitable than the other depending on the situation. Here's why you might choose a set over a list:\n",
        "\n",
        "Uniqueness: Sets, by definition, only store unique elements. If you need to ensure that there are no duplicates in your collection, using a set is an efficient way to achieve this. Adding a duplicate element to a set has no effect, it will simply not be added.\n",
        "\n",
        "Membership Testing: Checking if an element exists within a set is significantly faster than doing the same in a list. Sets are implemented using hash tables, which allow for near-constant time complexity (O(1)) for membership testing. Lists, on the other hand, require linear time complexity (O(n)) as they might have to iterate over every element.\n",
        "\n",
        "Set Operations: Sets provide built-in operations like union, intersection, and difference, which are useful for comparing and combining collections of data. These operations are not directly available for lists and would require more complex code to implement."
      ],
      "metadata": {
        "id": "ZL1OEh5kpX8t"
      }
    },
    {
      "cell_type": "markdown",
      "source": [
        "6.  What is a string in Python, and how is it different from a list?"
      ],
      "metadata": {
        "id": "FIsZzgbWqIfi"
      }
    },
    {
      "cell_type": "markdown",
      "source": [
        " - 1 - Strings in Python are sequences of characters enclosed in quotes ('' or “”). Lists are ordered collections of items enclosed in square brackets [].\n",
        "\n",
        " - 2) Strings are immutable, meaning they cannot be changed once created, while lists are mutable and can be modified as needed."
      ],
      "metadata": {
        "id": "4K9BTVG9qO7t"
      }
    },
    {
      "cell_type": "markdown",
      "source": [
        "7. How do tuples ensure data integrity in Python?"
      ],
      "metadata": {
        "id": "eCtxm_6BqcmR"
      }
    },
    {
      "cell_type": "markdown",
      "source": [
        "- Tuples in Python ensure data integrity through their immutability. Once a tuple is created, its elements cannot be changed, added, or removed. This characteristic guarantees that the data stored within a tuple remains constant throughout the program's execution. Immutability prevents accidental or unintended modifications, safeguarding the integrity of the data. This makes tuples suitable for situations where data consistency is critical, such as storing fixed records, representing coordinates, or using them as keys in dictionaries."
      ],
      "metadata": {
        "id": "mX6ZNuXWqr35"
      }
    },
    {
      "cell_type": "markdown",
      "source": [
        "8. What is a hash table, and how does it relate to dictionaries in Python?"
      ],
      "metadata": {
        "id": "EmPdUyA2qwvo"
      }
    },
    {
      "cell_type": "markdown",
      "source": [
        "- A hash table is a data structure that stores key-value pairs, where each key is unique and mapped to a specific location (index) in an array using a hash function. This allows for efficient retrieval, insertion, and deletion of data. The hash function computes the index, also called the hash code, for a given key.\n",
        "\n",
        "In Python, dictionaries are implemented using hash tables. When a key-value pair is added to a dictionary, Python calculates the hash value of the key and uses it to determine the storage location. This implementation allows dictionaries to provide average-case O(1) time complexity for common operations like accessing, inserting, and deleting elements.\n",
        "\n"
      ],
      "metadata": {
        "id": "nj3cbHF2q1tE"
      }
    },
    {
      "cell_type": "markdown",
      "source": [
        "9. Can lists contain different data types in Python?"
      ],
      "metadata": {
        "id": "8ly-3R43q7nk"
      }
    },
    {
      "cell_type": "markdown",
      "source": [
        "Yes, lists in Python are capable of storing elements of different data types. A single list can contain integers, strings, floats, booleans, and even other lists or data structures like dictionaries and tuples. This flexibility is a core feature of Python lists and is often used to group related but differently-typed data together."
      ],
      "metadata": {
        "id": "BU35yFe6rIvp"
      }
    },
    {
      "cell_type": "markdown",
      "source": [
        "10. Explain why strings are immutable in Python."
      ],
      "metadata": {
        "id": "y0_176D7rMAH"
      }
    },
    {
      "cell_type": "markdown",
      "source": [
        "- Immutable strings allow for memory optimization. When multiple variables have the same string value, they can all reference the same memory location. If strings were mutable, each variable would need its own copy, wasting memory."
      ],
      "metadata": {
        "id": "WjgOatWOrT4Y"
      }
    },
    {
      "cell_type": "markdown",
      "source": [
        "11. What advantages do dictionaries offer over lists for certain tasks."
      ],
      "metadata": {
        "id": "csEsL0JgriDW"
      }
    },
    {
      "cell_type": "markdown",
      "source": [
        "- So it is more efficient to use dictionaries for the searching of\n",
        "elements as it can be carried out in a much faster manner. Lists are used when it is important to maintain the order of the elements and dealing with data that may get changed in the future."
      ],
      "metadata": {
        "id": "lZlqZElqrmxC"
      }
    },
    {
      "cell_type": "markdown",
      "source": [
        "12. Describe a scenario where using a tuple would be preferable over a list."
      ],
      "metadata": {
        "id": "bVDvVVtBrrVJ"
      }
    },
    {
      "cell_type": "markdown",
      "source": [
        "- Use a list if you need a mutable collection of items where you may need to add, remove, or change elements. Lists are more flexible and have more built-in methods, making them ideal for dynamic collections. Use a tuple if you need an immutable collection where the elements won't change after creation."
      ],
      "metadata": {
        "id": "Q4J-Z0GXr6ag"
      }
    },
    {
      "cell_type": "markdown",
      "source": [
        "13. How do sets handle duplicate values in Python."
      ],
      "metadata": {
        "id": "5DNegJnqr9X4"
      }
    },
    {
      "cell_type": "markdown",
      "source": [
        "- Sets in Python are designed to store only unique elements. When a user attempts to add a duplicate value to a set, the set automatically discards the duplicate, ensuring that each element within the set is distinct. This behavior is fundamental to the nature of sets as unordered collections of unique items."
      ],
      "metadata": {
        "id": "HBK4kTJSsCpE"
      }
    },
    {
      "cell_type": "markdown",
      "source": [
        "14. How does the “in” keyword work differently for lists and dictionaries."
      ],
      "metadata": {
        "id": "r4q3cT8nsIIh"
      }
    },
    {
      "cell_type": "markdown",
      "source": [
        "- The in and not in operator works on dictionaries; it tells you whether something appears or not as a key in the dictionary. It returns two values True or False. The in operator uses different algorithms for lists and dictionaries. For lists, it uses a search algorithm"
      ],
      "metadata": {
        "id": "039mDyvCsMrU"
      }
    },
    {
      "cell_type": "markdown",
      "source": [
        "15. Can you modify the elements of a tuple? Explain why or why not."
      ],
      "metadata": {
        "id": "PMAy3UmqsRFs"
      }
    },
    {
      "cell_type": "markdown",
      "source": [
        "- No, you cannot directly modify the elements of a tuple in Python after it's been created. Tuples are immutable, meaning their contents cannot be changed once they are defined. Trying to modify a tuple will result in a TypeError."
      ],
      "metadata": {
        "id": "8Eqb5EqasYZ4"
      }
    },
    {
      "cell_type": "markdown",
      "source": [
        "16. What is a nested dictionary, and give an example of its use case."
      ],
      "metadata": {
        "id": "xwc21zjbsdTe"
      }
    },
    {
      "cell_type": "markdown",
      "source": [
        "- A nested dictionary in Python is a dictionary where the values are themselves dictionaries. This allows for the creation of a hierarchical structure where data can be organized into multiple levels. A common use case for nested dictionaries is representing complex, multi-layered data, such as employee information with nested address and contact details."
      ],
      "metadata": {
        "id": "FHptMjovshK7"
      }
    },
    {
      "cell_type": "markdown",
      "source": [
        "17. Describe the time complexity of accessing elements in a dictionary."
      ],
      "metadata": {
        "id": "SwGplm0bsnbu"
      }
    },
    {
      "cell_type": "markdown",
      "source": [
        "- Accessing an element in a dictionary using its key typically has a time complexity of O(1) on average, meaning it takes constant time, regardless of the dictionary's size. However, in the worst-case scenario, it can degrade to O(n), where n is the number of key-value pairs, if there are many hash collisions.\n",
        "\n",
        "Explanation: Dictionaries, in most programming languages, are implemented using has h tables. Hash tables use a hash function to map keys to indices in an array (or a similar structure). When you access an element by its key, the hash function quickly determines the potential location of that key-value pair in the array. This lookup is very efficient and takes constant time on average, hence O(1)"
      ],
      "metadata": {
        "id": "AF4ehIVessza"
      }
    },
    {
      "cell_type": "markdown",
      "source": [
        "18. In what situations are lists preferred over dictionaries."
      ],
      "metadata": {
        "id": "19Mhi2JDrB_c"
      }
    },
    {
      "cell_type": "markdown",
      "source": [
        "- For quick data look-ups, configurations, or caches, favor dictionaries. For ordered collections and sequence operations, such as maintaining a stack or queue, lists are more suitable."
      ],
      "metadata": {
        "id": "1jFDrlx-s_r9"
      }
    },
    {
      "cell_type": "markdown",
      "source": [
        " 19. Why are dictionaries considered unordered, and how does that affect data retrieval."
      ],
      "metadata": {
        "id": "WW0avnjmtEBd"
      }
    },
    {
      "cell_type": "markdown",
      "source": [
        "- A dictionary is termed an unordered collection of objects because dictionaries do not maintain any inherent order of the items based on when they were added. In older versions of Python (before 3.7), dictionaries did not preserve insertion order at all."
      ],
      "metadata": {
        "id": "PnZZlv2FtPjJ"
      }
    },
    {
      "cell_type": "markdown",
      "source": [
        "20. Explain the difference between a list and a dictionary in terms of data retrieval."
      ],
      "metadata": {
        "id": "bS32i5eYtWt8"
      }
    },
    {
      "cell_type": "markdown",
      "source": [
        "- In terms of data retrieval, a dictionary offers significantly faster lookup of values based on unique keys compared to a list, which relies on numerical indices. Dictionaries, using a hash table, can find values associated with a key in an average of O(1) (constant) time, while lists, requiring sequential searching, have an average time complexity of O(n) (linear).\n",
        "\n",
        "Lists:\n",
        "\n",
        "Ordered: Elements are stored and accessed based on their position (index) in the sequence, starting from 0.\n",
        "\n",
        "Indexing: Elements are accessed using numerical indices (e.g., my_list to get the third element).\n",
        "\n",
        "Lookup Speed: inding a specific element in a list requires iterating through it until the element is found, resulting in a potentially slow lookup, especially for large lists.\n",
        "\n",
        "Dictionaries:\n",
        "\n",
        "Unordered: Elements are stored as key-value pairs, and the order of insertion is not guaranteed.\n",
        "\n",
        "Keys: Elements are accessed using unique keys, not indices. These keys can be of various data types.\n",
        "\n",
        "Lookup Speed: Dictionaries use a hash table to store key-value pairs, allowing for extremely fast lookups based on keys. The lookup time is typically O(1) on average."
      ],
      "metadata": {
        "id": "jKVrEpYMtimB"
      }
    },
    {
      "cell_type": "code",
      "source": [],
      "metadata": {
        "id": "dYtzcHoIt0kM"
      },
      "execution_count": null,
      "outputs": []
    },
    {
      "cell_type": "markdown",
      "source": [
        "PRACTICAL QUESTIONS"
      ],
      "metadata": {
        "id": "VPdUzu2292UC"
      }
    },
    {
      "cell_type": "markdown",
      "source": [
        "1. Write a code to create a string with your name and print it"
      ],
      "metadata": {
        "id": "O1fJpAWY995t"
      }
    },
    {
      "cell_type": "code",
      "source": [
        "String = \"FAIZ AHMED\"\n",
        "print(String)"
      ],
      "metadata": {
        "colab": {
          "base_uri": "https://localhost:8080/"
        },
        "id": "WM23tOC69p5R",
        "outputId": "db72077e-e454-42d5-be58-6060bf5d34cf"
      },
      "execution_count": null,
      "outputs": [
        {
          "output_type": "stream",
          "name": "stdout",
          "text": [
            "FAIZ AHMED\n"
          ]
        }
      ]
    },
    {
      "cell_type": "code",
      "source": [],
      "metadata": {
        "id": "QIHgZJDRR3Nd"
      },
      "execution_count": null,
      "outputs": []
    },
    {
      "cell_type": "markdown",
      "source": [
        "2. Write a code to find the length of the string \"Hello World\""
      ],
      "metadata": {
        "id": "V17TXNI0B7dr"
      }
    },
    {
      "cell_type": "code",
      "source": [
        "s = \"Hello world\"\n",
        "length = len(s)\n",
        "print(length)"
      ],
      "metadata": {
        "colab": {
          "base_uri": "https://localhost:8080/"
        },
        "id": "5iWkAGIE9p2Z",
        "outputId": "26982b24-9c70-4477-b9fb-81e4a8a364ad"
      },
      "execution_count": null,
      "outputs": [
        {
          "output_type": "stream",
          "name": "stdout",
          "text": [
            "11\n"
          ]
        }
      ]
    },
    {
      "cell_type": "code",
      "source": [],
      "metadata": {
        "id": "IwROWm7JR4NH"
      },
      "execution_count": null,
      "outputs": []
    },
    {
      "cell_type": "markdown",
      "source": [
        "3. Write a code to slice the first 3 characters from the string \"Python Programming\"P"
      ],
      "metadata": {
        "id": "q6deTGBEFZds"
      }
    },
    {
      "cell_type": "code",
      "source": [
        "String = \"Python Programming\"\n",
        "String = String[0:3]\n",
        "print(String)"
      ],
      "metadata": {
        "colab": {
          "base_uri": "https://localhost:8080/"
        },
        "id": "na_K0sIO9pvC",
        "outputId": "7808a7a3-7128-4d52-e898-c0de480db58e"
      },
      "execution_count": null,
      "outputs": [
        {
          "output_type": "stream",
          "name": "stdout",
          "text": [
            "Pyt\n"
          ]
        }
      ]
    },
    {
      "cell_type": "code",
      "source": [],
      "metadata": {
        "id": "FLXN33k0R4yl"
      },
      "execution_count": null,
      "outputs": []
    },
    {
      "cell_type": "markdown",
      "source": [
        "4. Write a code to convert the string \"hello\" to uppercase"
      ],
      "metadata": {
        "id": "OriUupqVIQd1"
      }
    },
    {
      "cell_type": "code",
      "source": [
        "text = \"hello\"\n",
        "text.swapcase()"
      ],
      "metadata": {
        "colab": {
          "base_uri": "https://localhost:8080/",
          "height": 36
        },
        "id": "zY2auxNU9psS",
        "outputId": "5b314497-1820-4aaa-9582-16d20ef0264c"
      },
      "execution_count": null,
      "outputs": [
        {
          "output_type": "execute_result",
          "data": {
            "text/plain": [
              "'HELLO'"
            ],
            "application/vnd.google.colaboratory.intrinsic+json": {
              "type": "string"
            }
          },
          "metadata": {},
          "execution_count": 13
        }
      ]
    },
    {
      "cell_type": "code",
      "source": [],
      "metadata": {
        "id": "Fa9E7I6vR5mp"
      },
      "execution_count": null,
      "outputs": []
    },
    {
      "cell_type": "markdown",
      "source": [
        "5. Write a code to replace the word \"apple\" with \"orange\" in the string \"I like apple\""
      ],
      "metadata": {
        "id": "re_zXabwI83d"
      }
    },
    {
      "cell_type": "code",
      "source": [
        "s = \"orange\"\n",
        "s.replace(\"orange\",\"apple\")"
      ],
      "metadata": {
        "colab": {
          "base_uri": "https://localhost:8080/",
          "height": 36
        },
        "id": "7cFm9v6y9pow",
        "outputId": "6bd4d220-3176-4294-fac7-813027df2aa7"
      },
      "execution_count": null,
      "outputs": [
        {
          "output_type": "execute_result",
          "data": {
            "text/plain": [
              "'apple'"
            ],
            "application/vnd.google.colaboratory.intrinsic+json": {
              "type": "string"
            }
          },
          "metadata": {},
          "execution_count": 16
        }
      ]
    },
    {
      "cell_type": "code",
      "source": [],
      "metadata": {
        "id": "CSmFRTiwR8Ay"
      },
      "execution_count": null,
      "outputs": []
    },
    {
      "cell_type": "markdown",
      "source": [
        "6. Write a code to create a list with numbers 1 to 5 and print it"
      ],
      "metadata": {
        "id": "6rT3RsPqLOFs"
      }
    },
    {
      "cell_type": "code",
      "source": [
        "list = [1,2,3,4,5]\n",
        "print(list)"
      ],
      "metadata": {
        "colab": {
          "base_uri": "https://localhost:8080/"
        },
        "id": "raJvvntL9pgx",
        "outputId": "94ea4e52-8a3e-4ca2-b90c-778e269a1eb3"
      },
      "execution_count": null,
      "outputs": [
        {
          "output_type": "stream",
          "name": "stdout",
          "text": [
            "[1, 2, 3, 4, 5]\n"
          ]
        }
      ]
    },
    {
      "cell_type": "code",
      "source": [],
      "metadata": {
        "id": "Uv3R3rTZR8rS"
      },
      "execution_count": null,
      "outputs": []
    },
    {
      "cell_type": "markdown",
      "source": [
        "7. Write a code to append the number 10 to the list [1, 2, 3, 4]"
      ],
      "metadata": {
        "id": "y3of2WyKMDYT"
      }
    },
    {
      "cell_type": "code",
      "source": [
        "list = [1,2,3,4,]\n",
        "list.append(10)\n",
        "print(list)"
      ],
      "metadata": {
        "colab": {
          "base_uri": "https://localhost:8080/"
        },
        "id": "_7HAoMCj9pYN",
        "outputId": "aeb0c1b7-ca76-4c88-81d0-6875a063d0fe"
      },
      "execution_count": null,
      "outputs": [
        {
          "output_type": "stream",
          "name": "stdout",
          "text": [
            "[1, 2, 3, 4, 10]\n"
          ]
        }
      ]
    },
    {
      "cell_type": "code",
      "source": [],
      "metadata": {
        "id": "hQDxkG3pR9OJ"
      },
      "execution_count": null,
      "outputs": []
    },
    {
      "cell_type": "markdown",
      "source": [
        " 8. Write a code to remove the number 3 from the list [1, 2, 3, 4, 5]"
      ],
      "metadata": {
        "id": "W3b6MbkxMxhR"
      }
    },
    {
      "cell_type": "code",
      "source": [
        "from os import remove\n",
        "remove = [1,2,3,4,5]\n",
        "remove.remove(3)\n",
        "print(remove)"
      ],
      "metadata": {
        "colab": {
          "base_uri": "https://localhost:8080/"
        },
        "id": "G2kVgYRnMtVF",
        "outputId": "0bf7d10e-fb4b-4918-b1b5-e706643be76b"
      },
      "execution_count": null,
      "outputs": [
        {
          "output_type": "stream",
          "name": "stdout",
          "text": [
            "[1, 2, 4, 5]\n"
          ]
        }
      ]
    },
    {
      "cell_type": "markdown",
      "source": [],
      "metadata": {
        "id": "D5x8djfHNnq_"
      }
    },
    {
      "cell_type": "code",
      "source": [],
      "metadata": {
        "id": "RCAd8eqNR-D3"
      },
      "execution_count": null,
      "outputs": []
    },
    {
      "cell_type": "markdown",
      "source": [
        "9. Write a code to access the second element in the list ['a', 'b', 'c', 'd']"
      ],
      "metadata": {
        "id": "ho2EoZ3YNO-T"
      }
    },
    {
      "cell_type": "code",
      "source": [
        "list =  ['a', 'b', 'c', 'd']\n",
        "list[1]"
      ],
      "metadata": {
        "colab": {
          "base_uri": "https://localhost:8080/",
          "height": 36
        },
        "id": "HfP_dJH79pLF",
        "outputId": "297ff77d-fa9b-4efd-a396-fc2e8759f916"
      },
      "execution_count": null,
      "outputs": [
        {
          "output_type": "execute_result",
          "data": {
            "text/plain": [
              "'b'"
            ],
            "application/vnd.google.colaboratory.intrinsic+json": {
              "type": "string"
            }
          },
          "metadata": {},
          "execution_count": 22
        }
      ]
    },
    {
      "cell_type": "code",
      "source": [],
      "metadata": {
        "id": "Gu_02QtsR_GF"
      },
      "execution_count": null,
      "outputs": []
    },
    {
      "cell_type": "markdown",
      "source": [
        "10. Write a code to reverse the list [10, 20, 30, 40, 50]"
      ],
      "metadata": {
        "id": "aiCLYF9tN1Qg"
      }
    },
    {
      "cell_type": "code",
      "source": [
        "list = [10, 20, 30, 40, 50]\n",
        "list.reverse()\n",
        "print(list)"
      ],
      "metadata": {
        "colab": {
          "base_uri": "https://localhost:8080/"
        },
        "id": "vgJPTR8gNaPx",
        "outputId": "fa8f24c2-70dd-409f-89d9-403171e42997"
      },
      "execution_count": null,
      "outputs": [
        {
          "output_type": "stream",
          "name": "stdout",
          "text": [
            "[50, 40, 30, 20, 10]\n"
          ]
        }
      ]
    },
    {
      "cell_type": "code",
      "source": [],
      "metadata": {
        "id": "UgeovGPBSAKF"
      },
      "execution_count": null,
      "outputs": []
    },
    {
      "cell_type": "markdown",
      "source": [
        "11. Write a code to create a tuple with the elements 100, 200, 300 and print it"
      ],
      "metadata": {
        "id": "P3FQVZauOVIk"
      }
    },
    {
      "cell_type": "code",
      "source": [
        "tuple = (100,200,300)\n",
        "print(tuple)"
      ],
      "metadata": {
        "colab": {
          "base_uri": "https://localhost:8080/"
        },
        "id": "tOyxWH1SNaoU",
        "outputId": "f550ef89-2cb7-494c-9f3f-48a6fe181bce"
      },
      "execution_count": null,
      "outputs": [
        {
          "output_type": "stream",
          "name": "stdout",
          "text": [
            "(100, 200, 300)\n"
          ]
        }
      ]
    },
    {
      "cell_type": "code",
      "source": [],
      "metadata": {
        "id": "QGCc2umvSAwC"
      },
      "execution_count": null,
      "outputs": []
    },
    {
      "cell_type": "markdown",
      "source": [
        "12.Write a code to access the second-to-last element of the tuple ('red', 'green', 'blue', 'yellow')"
      ],
      "metadata": {
        "id": "Erf_BY72OXnQ"
      }
    },
    {
      "cell_type": "code",
      "source": [
        "tuple = ('red', 'green', 'blue', 'yellow')\n",
        "tuple[2]"
      ],
      "metadata": {
        "colab": {
          "base_uri": "https://localhost:8080/",
          "height": 36
        },
        "id": "I3Fcz7n8RLv7",
        "outputId": "e9ed4dcb-15d3-4f1e-b08a-47f858222eb5"
      },
      "execution_count": null,
      "outputs": [
        {
          "output_type": "execute_result",
          "data": {
            "text/plain": [
              "'blue'"
            ],
            "application/vnd.google.colaboratory.intrinsic+json": {
              "type": "string"
            }
          },
          "metadata": {},
          "execution_count": 29
        }
      ]
    },
    {
      "cell_type": "code",
      "source": [],
      "metadata": {
        "id": "FqRmj51-SBdi"
      },
      "execution_count": null,
      "outputs": []
    },
    {
      "cell_type": "markdown",
      "source": [
        "13. Write a code to find the minimum number in the tuple (10, 20, 5, 15)"
      ],
      "metadata": {
        "id": "5EqXZQLZRLal"
      }
    },
    {
      "cell_type": "code",
      "source": [
        "number = (10, 20, 5, 15)\n",
        "min(number)"
      ],
      "metadata": {
        "colab": {
          "base_uri": "https://localhost:8080/"
        },
        "id": "RPAF-6AdRK_x",
        "outputId": "47a3b597-eb71-4852-abd1-f242739a5c05"
      },
      "execution_count": null,
      "outputs": [
        {
          "output_type": "execute_result",
          "data": {
            "text/plain": [
              "5"
            ]
          },
          "metadata": {},
          "execution_count": 30
        }
      ]
    },
    {
      "cell_type": "markdown",
      "source": [
        "14. Write a code to find the index of the element \"cat\" in the tuple ('dog', 'cat', 'rabbit')"
      ],
      "metadata": {
        "id": "zF18WNwoObIW"
      }
    },
    {
      "cell_type": "code",
      "source": [
        "find = ('dog', 'cat', 'rabbit')\n",
        "find.index('cat')"
      ],
      "metadata": {
        "colab": {
          "base_uri": "https://localhost:8080/"
        },
        "id": "1diVErz0NagD",
        "outputId": "e9829da5-3394-46d8-921d-b98b9259ff41"
      },
      "execution_count": null,
      "outputs": [
        {
          "output_type": "execute_result",
          "data": {
            "text/plain": [
              "1"
            ]
          },
          "metadata": {},
          "execution_count": 31
        }
      ]
    },
    {
      "cell_type": "code",
      "source": [],
      "metadata": {
        "id": "CardH3bXVMSl"
      },
      "execution_count": null,
      "outputs": []
    },
    {
      "cell_type": "markdown",
      "source": [
        "15. Write a code to create a tuple containing three different fruits and check if \"kiwi\" is in it"
      ],
      "metadata": {
        "id": "B90z2TIDOeR4"
      }
    },
    {
      "cell_type": "code",
      "source": [
        "tuple = ('apple','banana','kiwi')\n",
        "if 'kiwi' in tuple:\n",
        "    print('yes')\n",
        "else:\n",
        "    print('no')\n",
        "\n"
      ],
      "metadata": {
        "colab": {
          "base_uri": "https://localhost:8080/"
        },
        "id": "FOtzrqLNNaTM",
        "outputId": "194012f2-d17b-4c31-cdbd-638154a7ab55"
      },
      "execution_count": null,
      "outputs": [
        {
          "output_type": "stream",
          "name": "stdout",
          "text": [
            "yes\n"
          ]
        }
      ]
    },
    {
      "cell_type": "code",
      "source": [],
      "metadata": {
        "id": "Xx4JhLDBVLyK"
      },
      "execution_count": null,
      "outputs": []
    },
    {
      "cell_type": "markdown",
      "source": [
        "16. Write a code to create a set with the elements 'a', 'b', 'c' and print it"
      ],
      "metadata": {
        "id": "17n4DDcmOgIc"
      }
    },
    {
      "cell_type": "code",
      "source": [
        "set = {'a', 'b', 'c'}\n",
        "print(set)"
      ],
      "metadata": {
        "colab": {
          "base_uri": "https://localhost:8080/"
        },
        "id": "Cpb8c-mZOiUu",
        "outputId": "d4f4b319-e005-4683-8a24-a81cfda90d1e"
      },
      "execution_count": null,
      "outputs": [
        {
          "output_type": "stream",
          "name": "stdout",
          "text": [
            "{'c', 'b', 'a'}\n"
          ]
        }
      ]
    },
    {
      "cell_type": "code",
      "source": [],
      "metadata": {
        "id": "rq1p5a2YVLYk"
      },
      "execution_count": null,
      "outputs": []
    },
    {
      "cell_type": "markdown",
      "source": [
        "17.Write a code to clear all elements from the set {1, 2, 3, 4, 5}"
      ],
      "metadata": {
        "id": "434pjWmOOipW"
      }
    },
    {
      "cell_type": "code",
      "source": [
        "set = {1, 2, 3, 4, 5}\n",
        "set.clear()\n",
        "print(set)"
      ],
      "metadata": {
        "colab": {
          "base_uri": "https://localhost:8080/"
        },
        "id": "tPqcF7a2UqfQ",
        "outputId": "605b2863-8d42-4ba3-d816-d876eb456603"
      },
      "execution_count": null,
      "outputs": [
        {
          "output_type": "stream",
          "name": "stdout",
          "text": [
            "set()\n"
          ]
        }
      ]
    },
    {
      "cell_type": "markdown",
      "source": [
        "18. Write a code to remove the element 4 from the set {1, 2, 3, 4}"
      ],
      "metadata": {
        "id": "xq_tDdK6OkIv"
      }
    },
    {
      "cell_type": "code",
      "source": [
        "set = {1, 2, 3, 4}\n",
        "set.remove(4)\n",
        "print(set)\n",
        "\n"
      ],
      "metadata": {
        "colab": {
          "base_uri": "https://localhost:8080/"
        },
        "id": "oHYm0eZ9VKnS",
        "outputId": "fdeeb12c-0b1e-4eba-e544-d325e0e1987e"
      },
      "execution_count": null,
      "outputs": [
        {
          "output_type": "stream",
          "name": "stdout",
          "text": [
            "{1, 2, 3}\n"
          ]
        }
      ]
    },
    {
      "cell_type": "code",
      "source": [],
      "metadata": {
        "id": "aR-ar4FRV54k"
      },
      "execution_count": null,
      "outputs": []
    },
    {
      "cell_type": "markdown",
      "source": [
        "19.. Write a code to find the union of two sets {1, 2, 3} and {3, 4, 5}"
      ],
      "metadata": {
        "id": "ZasxYGbwV5iM"
      }
    },
    {
      "cell_type": "code",
      "source": [
        "set = {1, 2, 3}\n",
        "set1 ={3,4,5}\n",
        "set.union(set1)"
      ],
      "metadata": {
        "colab": {
          "base_uri": "https://localhost:8080/"
        },
        "id": "t2KNXMMLOnQq",
        "outputId": "882dcc66-2963-493c-e4ba-3db21c8e0929"
      },
      "execution_count": null,
      "outputs": [
        {
          "output_type": "execute_result",
          "data": {
            "text/plain": [
              "{1, 2, 3, 4, 5}"
            ]
          },
          "metadata": {},
          "execution_count": 41
        }
      ]
    },
    {
      "cell_type": "code",
      "source": [],
      "metadata": {
        "id": "7QLnSL6KZcWE"
      },
      "execution_count": null,
      "outputs": []
    },
    {
      "cell_type": "markdown",
      "source": [
        "20. Write a code to find the intersection of two sets {1, 2, 3} and {2, 3, 4}"
      ],
      "metadata": {
        "id": "aci4vZkDOngJ"
      }
    },
    {
      "cell_type": "code",
      "source": [
        "find = {1, 2, 3}\n",
        "find1 = {2, 3, 4}\n",
        "find.intersection(find1)"
      ],
      "metadata": {
        "colab": {
          "base_uri": "https://localhost:8080/"
        },
        "id": "8utKfvkkOrk5",
        "outputId": "7eface8d-9f1b-4db1-e512-ea359dce8d4f"
      },
      "execution_count": null,
      "outputs": [
        {
          "output_type": "execute_result",
          "data": {
            "text/plain": [
              "{2, 3}"
            ]
          },
          "metadata": {},
          "execution_count": 42
        }
      ]
    },
    {
      "cell_type": "code",
      "source": [],
      "metadata": {
        "id": "iueezyCPZbti"
      },
      "execution_count": null,
      "outputs": []
    },
    {
      "cell_type": "markdown",
      "source": [
        "21. Write a code to create a dictionary with the keys \"name\", \"age\", and \"city\", and print it"
      ],
      "metadata": {
        "id": "-K2mLpu_Or2z"
      }
    },
    {
      "cell_type": "code",
      "source": [
        "dict = {\"name\":\"faiz\",\"age\":23,\"city\":\"siliguri\"}\n",
        "print(dict)"
      ],
      "metadata": {
        "colab": {
          "base_uri": "https://localhost:8080/"
        },
        "id": "GrC8Ero6YqGM",
        "outputId": "9c532d83-17e0-4a6e-e8a1-178028a2579f"
      },
      "execution_count": null,
      "outputs": [
        {
          "output_type": "stream",
          "name": "stdout",
          "text": [
            "{'name': 'faiz', 'age': 23, 'city': 'siliguri'}\n"
          ]
        }
      ]
    },
    {
      "cell_type": "code",
      "source": [],
      "metadata": {
        "id": "KdYKhyUfZf-C"
      },
      "execution_count": null,
      "outputs": []
    },
    {
      "cell_type": "markdown",
      "source": [
        "22.Write a code to add a new key-value pair \"country\": \"USA\" to the dictionary {'name': 'John', 'age': 25}"
      ],
      "metadata": {
        "id": "KjJO8c28OtkT"
      }
    },
    {
      "cell_type": "code",
      "source": [
        "my_dict = {'name': 'John', 'age': 25}\n",
        "my_dict[\"country\"] = \"USA\"\n",
        "my_dict"
      ],
      "metadata": {
        "colab": {
          "base_uri": "https://localhost:8080/"
        },
        "id": "mwye4ux3eGFg",
        "outputId": "d9c76ad3-8cb5-4cd5-b924-f1de96e5aca5"
      },
      "execution_count": null,
      "outputs": [
        {
          "output_type": "execute_result",
          "data": {
            "text/plain": [
              "{'name': 'John', 'age': 25, 'country': 'USA'}"
            ]
          },
          "metadata": {},
          "execution_count": 70
        }
      ]
    },
    {
      "cell_type": "code",
      "source": [],
      "metadata": {
        "id": "C-zKch2deGBS"
      },
      "execution_count": null,
      "outputs": []
    },
    {
      "cell_type": "markdown",
      "source": [
        "23. Write a code to access the value associated with the key \"name\" in the dictionary {'name': 'Alice', 'age': 30}"
      ],
      "metadata": {
        "id": "Z94rJkiyii08"
      }
    },
    {
      "cell_type": "code",
      "source": [
        "my_dict = {'name': 'Alice', 'age': 30}\n",
        "name_value = my_dict['name']\n",
        "name_value"
      ],
      "metadata": {
        "colab": {
          "base_uri": "https://localhost:8080/",
          "height": 36
        },
        "id": "uRNoBq2wi3Tl",
        "outputId": "60f00807-f481-4fd1-8e24-6f01e5e48499"
      },
      "execution_count": null,
      "outputs": [
        {
          "output_type": "execute_result",
          "data": {
            "text/plain": [
              "'Alice'"
            ],
            "application/vnd.google.colaboratory.intrinsic+json": {
              "type": "string"
            }
          },
          "metadata": {},
          "execution_count": 71
        }
      ]
    },
    {
      "cell_type": "code",
      "source": [],
      "metadata": {
        "id": "P6lI5YjAi7bw"
      },
      "execution_count": null,
      "outputs": []
    },
    {
      "cell_type": "markdown",
      "source": [
        "24. Write a code to remove the key \"age\" from the dictionary {'name': 'Bob', 'age': 22, 'city': 'New York'}"
      ],
      "metadata": {
        "id": "0pd9mgaSjBN9"
      }
    },
    {
      "cell_type": "code",
      "source": [
        "my_dict = {'name': 'Bob', 'age': 22, 'city': 'New York'}\n",
        "del my_dict['age']\n",
        "my_dict"
      ],
      "metadata": {
        "colab": {
          "base_uri": "https://localhost:8080/"
        },
        "id": "HTq_ZGbNjF5g",
        "outputId": "8d41824a-dd73-4cd9-ea4c-9eb3a41eafb4"
      },
      "execution_count": null,
      "outputs": [
        {
          "output_type": "execute_result",
          "data": {
            "text/plain": [
              "{'name': 'Bob', 'city': 'New York'}"
            ]
          },
          "metadata": {},
          "execution_count": 72
        }
      ]
    },
    {
      "cell_type": "markdown",
      "source": [
        "25.Write a code to check if the key \"city\" exists in the dictionary {'name': 'Alice', 'city': 'Paris'}"
      ],
      "metadata": {
        "id": "t6Uu7hpxOym_"
      }
    },
    {
      "cell_type": "code",
      "source": [
        "my_dict = {'name': 'Alice', 'city': 'Paris'}\n",
        "if 'city' in my_dict:\n",
        "    print('yes')\n",
        "else:\n",
        "        print('no')"
      ],
      "metadata": {
        "colab": {
          "base_uri": "https://localhost:8080/"
        },
        "id": "tscyd6jHO1Pe",
        "outputId": "7ec30c71-f1ea-4c9d-b372-52619b1c944f"
      },
      "execution_count": null,
      "outputs": [
        {
          "output_type": "stream",
          "name": "stdout",
          "text": [
            "yes\n"
          ]
        }
      ]
    },
    {
      "cell_type": "markdown",
      "source": [
        "26. Write a code to create a list, a tuple, and a dictionary, and print them all"
      ],
      "metadata": {
        "id": "GF8FhPAmO1fH"
      }
    },
    {
      "cell_type": "code",
      "source": [
        "my_list = [1, 2, 3, 4, 5]\n",
        "my_tuple = (6, 7, 8, 9, 10)\n",
        "my_dict = {\"name\": \"Faiz\", \"age\": 23, \"city\": \"siliguri\"}\n",
        "\n",
        "print(\"List:\", my_list)\n",
        "print(\"Tuple:\", my_tuple)\n",
        "print(\"Dictionary:\", my_dict)"
      ],
      "metadata": {
        "colab": {
          "base_uri": "https://localhost:8080/"
        },
        "id": "OfyGqzsvkK_X",
        "outputId": "43b21573-b1ea-4cef-b706-54155dd32e0e"
      },
      "execution_count": null,
      "outputs": [
        {
          "output_type": "stream",
          "name": "stdout",
          "text": [
            "List: [1, 2, 3, 4, 5]\n",
            "Tuple: (6, 7, 8, 9, 10)\n",
            "Dictionary: {'name': 'Faiz', 'age': 23, 'city': 'siliguri'}\n"
          ]
        }
      ]
    },
    {
      "cell_type": "code",
      "source": [],
      "metadata": {
        "id": "vbOZdc_KkK45"
      },
      "execution_count": null,
      "outputs": []
    },
    {
      "cell_type": "markdown",
      "source": [
        "27.Write a code to create a list of 5 random numbers between 1 and 100, sort it in ascending order, and print the\n",
        "result.(replaced)"
      ],
      "metadata": {
        "id": "4mkToAUfO3EO"
      }
    },
    {
      "cell_type": "code",
      "source": [
        "import random\n",
        "\n",
        "random_numbers = []\n",
        "for _ in range(5):\n",
        "  random_numbers.append(random.randint(1, 100))\n",
        "\n",
        "random_numbers.sort()\n",
        "random_numbers"
      ],
      "metadata": {
        "colab": {
          "base_uri": "https://localhost:8080/"
        },
        "id": "d53y1FopksWn",
        "outputId": "8cfdca9a-f95b-4866-cea8-3869a6deb9a7"
      },
      "execution_count": null,
      "outputs": [
        {
          "output_type": "execute_result",
          "data": {
            "text/plain": [
              "[9, 60, 62, 97, 100]"
            ]
          },
          "metadata": {},
          "execution_count": 78
        }
      ]
    },
    {
      "cell_type": "code",
      "source": [],
      "metadata": {
        "id": "dxiq45PtksTe"
      },
      "execution_count": null,
      "outputs": []
    },
    {
      "cell_type": "markdown",
      "source": [
        "28.  Write a code to create a list with strings and print the element at the third index"
      ],
      "metadata": {
        "id": "vgbMIgP6kyTf"
      }
    },
    {
      "cell_type": "code",
      "source": [
        "string_list = [\"apple\", \"banana\", \"cherry\", \"date\", \"elderberry\"]\n",
        "print(string_list[2])\n"
      ],
      "metadata": {
        "colab": {
          "base_uri": "https://localhost:8080/"
        },
        "id": "brmeHAfSlQQI",
        "outputId": "91829a17-8742-4fc4-b4eb-2933475684b4"
      },
      "execution_count": null,
      "outputs": [
        {
          "output_type": "stream",
          "name": "stdout",
          "text": [
            "cherry\n"
          ]
        }
      ]
    },
    {
      "cell_type": "code",
      "source": [],
      "metadata": {
        "id": "9uB5woTOlQNV"
      },
      "execution_count": null,
      "outputs": []
    },
    {
      "cell_type": "markdown",
      "source": [
        "29.Write a code to combine two dictionaries into one and print the result"
      ],
      "metadata": {
        "id": "McekX6ssO5vN"
      }
    },
    {
      "cell_type": "code",
      "source": [
        "dict1 = {'a': 1, 'b': 2}\n",
        "dict2 = {'c': 3, 'd': 4}\n",
        "\n",
        "combined_dict = dict1.copy()\n",
        "combined_dict.update(dict2)\n",
        "\n",
        "combined_dict"
      ],
      "metadata": {
        "colab": {
          "base_uri": "https://localhost:8080/"
        },
        "id": "Fd-ilMUOlgv2",
        "outputId": "ba3dd33c-7423-4a45-9057-a50fd38c8750"
      },
      "execution_count": null,
      "outputs": [
        {
          "output_type": "execute_result",
          "data": {
            "text/plain": [
              "{'a': 1, 'b': 2, 'c': 3, 'd': 4}"
            ]
          },
          "metadata": {},
          "execution_count": 81
        }
      ]
    },
    {
      "cell_type": "markdown",
      "source": [
        "30. Write a code to convert a list of strings into a set."
      ],
      "metadata": {
        "id": "sUGmf4HHo3OW"
      }
    },
    {
      "cell_type": "code",
      "source": [
        "string_list = [\"cricket\", \"football\", \"hockey\", \"cricket\"]\n",
        "string_set = set(string_list)\n",
        "print(string_set)"
      ],
      "metadata": {
        "id": "bahzMJpEtCLW",
        "outputId": "882d1d16-c7bd-4fe9-e353-0dd8b0ca5e48",
        "colab": {
          "base_uri": "https://localhost:8080/"
        }
      },
      "execution_count": null,
      "outputs": [
        {
          "output_type": "stream",
          "name": "stdout",
          "text": [
            "{'cricket', 'hockey', 'football'}\n"
          ]
        }
      ]
    },
    {
      "cell_type": "markdown",
      "source": [],
      "metadata": {
        "id": "e_X0YjWVPDxL"
      }
    }
  ]
}